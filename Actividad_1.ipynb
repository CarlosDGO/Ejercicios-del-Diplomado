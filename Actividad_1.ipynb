{
  "nbformat": 4,
  "nbformat_minor": 0,
  "metadata": {
    "colab": {
      "provenance": []
    },
    "kernelspec": {
      "name": "python3",
      "display_name": "Python 3"
    },
    "language_info": {
      "name": "python"
    }
  },
  "cells": [
    {
      "cell_type": "code",
      "execution_count": 4,
      "metadata": {
        "colab": {
          "base_uri": "https://localhost:8080/"
        },
        "id": "gv9XqmAG1eGB",
        "outputId": "0d4f0f15-5004-432e-c695-aab0be2f549a"
      },
      "outputs": [
        {
          "output_type": "stream",
          "name": "stdout",
          "text": [
            "Vocales: 15\n",
            "Consonantes: 17\n"
          ]
        }
      ],
      "source": [
        "def contar(cadena): #Definimos la fun\n",
        "    vocales = \"aeiou\"\n",
        "    alfabeto = \"aeioubcdfghjklmnpqrstvwxyz\"     #strings para comprobar\n",
        "\n",
        "    Cvocales = 0\n",
        "    Cconsonantes = 0                    #variables que serviran como contador\n",
        "\n",
        "    for caracter in cadena.lower():         #iniciamos el ciclo para la palabra\n",
        "        if caracter in alfabeto:\n",
        "            if caracter in vocales:         #se mete a doble comprobacion\n",
        "                Cvocales += 1               #para que nos de las vocales\n",
        "            else:\n",
        "                Cconsonantes += 1  #de no ser vocal el else la identifica como consonante\n",
        "\n",
        "    return Cvocales, Cconsonantes   #regresamos los valores\n",
        "\n",
        "\n",
        "texto = \"Tarea numero uno del machine learning\"    #ejemplo\n",
        "vocales, consonantes = contar(texto)\n",
        "print(\"Vocales:\", vocales)\n",
        "print(\"Consonantes:\", consonantes)"
      ]
    },
    {
      "cell_type": "code",
      "source": [
        "def x(n):\n",
        "    i = 1\n",
        "    while i <= n: #esto se repite por cada columna\n",
        "        j = 1\n",
        "        fila = \"\"      #declaramos la fila\n",
        "        while j <= i:  #este llena las filas\n",
        "            fila += str(i) + \" \" # lo convertimos a string y le agregamos el espacio\n",
        "            j += 1\n",
        "        print(fila)\n",
        "        i += 1\n",
        "\n",
        "x(6) #ejemplo"
      ],
      "metadata": {
        "colab": {
          "base_uri": "https://localhost:8080/"
        },
        "id": "0EQm0DQtIoKj",
        "outputId": "19fe91fa-9cf3-470d-bafe-bbba007a0c2b"
      },
      "execution_count": 11,
      "outputs": [
        {
          "output_type": "stream",
          "name": "stdout",
          "text": [
            "1 \n",
            "2 2 \n",
            "3 3 3 \n",
            "4 4 4 4 \n",
            "5 5 5 5 5 \n",
            "6 6 6 6 6 6 \n"
          ]
        }
      ]
    },
    {
      "cell_type": "code",
      "source": [
        "def tabla(n):\n",
        "    resultados = [] #def el arreglo\n",
        "    for i in range(1, 11):  #definimos el rango\n",
        "        resultado = n * i\n",
        "        resultados.append(resultado) #agregamos el res al arr\n",
        "    return resultados\n",
        "\n",
        "tabla = tabla(6) #ejemplo\n",
        "print(tabla)"
      ],
      "metadata": {
        "colab": {
          "base_uri": "https://localhost:8080/"
        },
        "id": "BFCg7O0zMC1I",
        "outputId": "c2822468-792d-445f-db8e-e38990fd7c3b"
      },
      "execution_count": 17,
      "outputs": [
        {
          "output_type": "stream",
          "name": "stdout",
          "text": [
            "[5, 10, 15, 20, 25, 30, 35, 40, 45, 50]\n"
          ]
        }
      ]
    },
    {
      "cell_type": "code",
      "source": [
        "def x(nombres):\n",
        "    limpiar = set(nombres) #usamos set para quitar las repeticiones\n",
        "    return limpiar\n",
        "\n",
        "nombres = [\"a\", \"s\", \"x\", \"x\", \"s\", \"w\"]\n",
        "print(\"Nombres sin repetir:\", x(nombres))"
      ],
      "metadata": {
        "colab": {
          "base_uri": "https://localhost:8080/"
        },
        "id": "ZbPw_2DIN5hm",
        "outputId": "d7f17421-99ab-418e-8ad4-676f6c87b097"
      },
      "execution_count": 22,
      "outputs": [
        {
          "output_type": "stream",
          "name": "stdout",
          "text": [
            "Nombres sin repetir: {'s', 'x', 'a', 'w'}\n"
          ]
        }
      ]
    },
    {
      "cell_type": "code",
      "source": [
        "def x(texto):\n",
        "    a = {\n",
        "        'a': '4','e': '3','i': '1','o': '0','s': '5'\n",
        "        }   #letras que seran cambiadas\n",
        "\n",
        "    nuevo = \"\"  #nuevo string\n",
        "    for caracter in texto:\n",
        "        if caracter in a:\n",
        "            nuevo += a[caracter]  #si coincide se cambia\n",
        "        else:\n",
        "            nuevo += caracter     #sino se agrega sin modificar al nuevo array\n",
        "    return nuevo\n",
        "\n",
        "entrada = \"Quinta Tarea del machine learning\"\n",
        "print(\"Texto modificado:\", x(entrada))"
      ],
      "metadata": {
        "colab": {
          "base_uri": "https://localhost:8080/"
        },
        "id": "nd2BV6j1PCBu",
        "outputId": "c0d73a8c-6e0b-4453-ad0b-394ff476a8fd"
      },
      "execution_count": 35,
      "outputs": [
        {
          "output_type": "stream",
          "name": "stdout",
          "text": [
            "Texto modificado: Qu1nt4 T4r34 d3l m4ch1n3 l34rn1ng\n"
          ]
        }
      ]
    },
    {
      "cell_type": "code",
      "source": [
        "def x(texto):\n",
        "    total = 0\n",
        "    espacios = 0\n",
        "    mayusculas = 0\n",
        "    minusculas = 0\n",
        "    puntuacion = 0   #definimos los contadores\n",
        "\n",
        "    signos = ['.', ',', ';', ':', '?', '!']  #definimos los signos que queremos contar\n",
        "\n",
        "    for i in texto:              #for para comprobar cada uno de los contadores\n",
        "        total += 1\n",
        "\n",
        "        if i == ' ':\n",
        "            espacios += 1\n",
        "        elif i in signos:\n",
        "            puntuacion += 1\n",
        "        elif i.isupper():\n",
        "            mayusculas += 1\n",
        "        elif i.islower():\n",
        "            minusculas += 1\n",
        "\n",
        "    print(\"total de caracteres:\", total)\n",
        "    print(\"spacios:\", espacios)\n",
        "    print(\"mayúsculas:\", mayusculas)\n",
        "    print(\"minúsculas:\", minusculas)\n",
        "    print(\"signos de puntuación:\", puntuacion)\n",
        "\n",
        "x(\"Ultima tarea de Machine ! Learning ? \")"
      ],
      "metadata": {
        "colab": {
          "base_uri": "https://localhost:8080/"
        },
        "id": "KxRCO9nyR04x",
        "outputId": "87bc40db-14f0-46c4-dc47-f03f219f3379"
      },
      "execution_count": 37,
      "outputs": [
        {
          "output_type": "stream",
          "name": "stdout",
          "text": [
            "total de caracteres: 37\n",
            "spacios: 7\n",
            "mayúsculas: 3\n",
            "minúsculas: 25\n",
            "signos de puntuación: 2\n"
          ]
        }
      ]
    }
  ]
}