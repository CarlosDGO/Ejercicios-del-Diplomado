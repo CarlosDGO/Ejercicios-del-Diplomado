{
 "cells": [
  {
   "cell_type": "markdown",
   "metadata": {
    "id": "FSct6HmD9721"
   },
   "source": [
    "# Practica 3 - Pandas\n",
    "**Nombre:** tu nombre"
   ]
  },
  {
   "cell_type": "markdown",
   "metadata": {
    "id": "ri2xF9sj-QDQ"
   },
   "source": [
    "Realiza los ejecicios que se indican en este notebook para practicar tu uso de la herramienta de gestion y almacenamiento de datos PANDAS"
   ]
  },
  {
   "cell_type": "code",
   "execution_count": 4,
   "metadata": {
    "id": "2bcB4YM5OCK3"
   },
   "outputs": [],
   "source": [
    "import numpy as np\n",
    "import pandas as pd "
   ]
  },
  {
   "cell_type": "markdown",
   "metadata": {
    "id": "W0cItnrG-emA"
   },
   "source": [
    "**Ejercicios**\n",
    "\n",
    "1.   Crea una serie con los siguientes valores:\n",
    "\n",
    "`temperaturas = [25, 30, 28, 33, 22, 19]`\n",
    "\n",
    "\n",
    "\n",
    "\n",
    "\n",
    "\n",
    "\n",
    "\n"
   ]
  },
  {
   "cell_type": "code",
   "execution_count": 5,
   "metadata": {
    "id": "BjVzx8Mm-AOp"
   },
   "outputs": [
    {
     "name": "stdout",
     "output_type": "stream",
     "text": [
      "0    25\n",
      "1    30\n",
      "2    28\n",
      "3    33\n",
      "4    22\n",
      "5    19\n",
      "dtype: int64\n"
     ]
    }
   ],
   "source": [
    "serie = pd.Series([25, 30, 28, 33, 22, 19])\n",
    "print (serie)"
   ]
  },
  {
   "cell_type": "markdown",
   "metadata": {
    "id": "L5-rHNl---RY"
   },
   "source": [
    "2.   Crea un DataFrame con los siguientes valores:\n",
    "\n",
    "`datos = [['Nueva York', 25], ['Londres', 18], ['París', 20], ['Tokio', 28], ['Sydney', 30]]`\n",
    "\n",
    "\n",
    "\n"
   ]
  },
  {
   "cell_type": "code",
   "execution_count": 11,
   "metadata": {
    "id": "xnOWPzIiSmh3"
   },
   "outputs": [
    {
     "name": "stdout",
     "output_type": "stream",
     "text": [
      "            0   1\n",
      "0  Nueva York  25\n",
      "1     Londres  18\n",
      "2       París  20\n",
      "3       Tokio  28\n",
      "4      Sydney  30\n"
     ]
    }
   ],
   "source": [
    "datos = [['Nueva York', 25], ['Londres', 18], ['París', 20], ['Tokio', 28], ['Sydney', 30]]\n",
    "df=pd.DataFrame(datos)\n",
    "print(df)"
   ]
  },
  {
   "cell_type": "markdown",
   "metadata": {
    "id": "G5Abpk79Sni5"
   },
   "source": [
    "\n",
    "\n",
    "3.   Importa los siguientes datos en un DataFrame llamado `df`\n",
    "(Este DataFrame lo usaras en los proximos Ejercicios)\n",
    "\n",
    "https://raw.githubusercontent.com/fivethirtyeight/data/master/alcohol-consumption/drinks.csv\n"
   ]
  },
  {
   "cell_type": "code",
   "execution_count": 19,
   "metadata": {
    "id": "pn52_FpjT6U2"
   },
   "outputs": [
    {
     "name": "stdout",
     "output_type": "stream",
     "text": [
      "         country  beer_servings  spirit_servings  wine_servings  \\\n",
      "0    Afghanistan              0                0              0   \n",
      "1        Albania             89              132             54   \n",
      "2        Algeria             25                0             14   \n",
      "3        Andorra            245              138            312   \n",
      "4         Angola            217               57             45   \n",
      "..           ...            ...              ...            ...   \n",
      "188    Venezuela            333              100              3   \n",
      "189      Vietnam            111                2              1   \n",
      "190        Yemen              6                0              0   \n",
      "191       Zambia             32               19              4   \n",
      "192     Zimbabwe             64               18              4   \n",
      "\n",
      "     total_litres_of_pure_alcohol  \n",
      "0                             0.0  \n",
      "1                             4.9  \n",
      "2                             0.7  \n",
      "3                            12.4  \n",
      "4                             5.9  \n",
      "..                            ...  \n",
      "188                           7.7  \n",
      "189                           2.0  \n",
      "190                           0.1  \n",
      "191                           2.5  \n",
      "192                           4.7  \n",
      "\n",
      "[193 rows x 5 columns]\n"
     ]
    }
   ],
   "source": [
    "url= 'https://raw.githubusercontent.com/fivethirtyeight/data/master/alcohol-consumption/drinks.csv'\n",
    "\n",
    "df=pd.read_csv(url)\n",
    "print(df)\n"
   ]
  },
  {
   "cell_type": "markdown",
   "metadata": {
    "id": "0LcVUduGT8vn"
   },
   "source": [
    "4.   Muestra los primeros 10 registros del DataFrame\n",
    "\n",
    "\n"
   ]
  },
  {
   "cell_type": "code",
   "execution_count": 21,
   "metadata": {
    "id": "QoB_uklAUdsG"
   },
   "outputs": [
    {
     "name": "stdout",
     "output_type": "stream",
     "text": [
      "             country  beer_servings  spirit_servings  wine_servings  \\\n",
      "0        Afghanistan              0                0              0   \n",
      "1            Albania             89              132             54   \n",
      "2            Algeria             25                0             14   \n",
      "3            Andorra            245              138            312   \n",
      "4             Angola            217               57             45   \n",
      "5  Antigua & Barbuda            102              128             45   \n",
      "6          Argentina            193               25            221   \n",
      "7            Armenia             21              179             11   \n",
      "8          Australia            261               72            212   \n",
      "9            Austria            279               75            191   \n",
      "\n",
      "   total_litres_of_pure_alcohol  \n",
      "0                           0.0  \n",
      "1                           4.9  \n",
      "2                           0.7  \n",
      "3                          12.4  \n",
      "4                           5.9  \n",
      "5                           4.9  \n",
      "6                           8.3  \n",
      "7                           3.8  \n",
      "8                          10.4  \n",
      "9                           9.7  \n"
     ]
    }
   ],
   "source": [
    "print(df.head(10))\n"
   ]
  },
  {
   "cell_type": "markdown",
   "metadata": {
    "id": "DasiHWeSUke5"
   },
   "source": [
    "5.   Muestra los ultimos 5 registros del DataFrame\n",
    "\n",
    "\n"
   ]
  },
  {
   "cell_type": "code",
   "execution_count": 22,
   "metadata": {
    "id": "H5e3HL6-VJJH"
   },
   "outputs": [
    {
     "name": "stdout",
     "output_type": "stream",
     "text": [
      "       country  beer_servings  spirit_servings  wine_servings  \\\n",
      "188  Venezuela            333              100              3   \n",
      "189    Vietnam            111                2              1   \n",
      "190      Yemen              6                0              0   \n",
      "191     Zambia             32               19              4   \n",
      "192   Zimbabwe             64               18              4   \n",
      "\n",
      "     total_litres_of_pure_alcohol  \n",
      "188                           7.7  \n",
      "189                           2.0  \n",
      "190                           0.1  \n",
      "191                           2.5  \n",
      "192                           4.7  \n"
     ]
    }
   ],
   "source": [
    "print(df.tail(5))"
   ]
  },
  {
   "cell_type": "markdown",
   "metadata": {
    "id": "wdyETR6AVJxR"
   },
   "source": [
    "6.   Muestra los datos correspondientes a Mexico.\n"
   ]
  },
  {
   "cell_type": "code",
   "execution_count": 24,
   "metadata": {
    "id": "fTv11eVeWOim"
   },
   "outputs": [
    {
     "name": "stdout",
     "output_type": "stream",
     "text": [
      "    country  beer_servings  spirit_servings  wine_servings  \\\n",
      "109  Mexico            238               68              5   \n",
      "\n",
      "     total_litres_of_pure_alcohol  \n",
      "109                           5.5  \n"
     ]
    }
   ],
   "source": [
    "print(df[df[\"country\"]==\"Mexico\"])"
   ]
  },
  {
   "cell_type": "markdown",
   "metadata": {
    "id": "a_4PJQcGOoIS"
   },
   "source": [
    "\n",
    "\n",
    "7. Muestra informacion sobre el DataFrame, por ejemplo si tiene Datos Nulos\n",
    "\n"
   ]
  },
  {
   "cell_type": "code",
   "execution_count": null,
   "metadata": {},
   "outputs": [],
   "source": []
  },
  {
   "cell_type": "markdown",
   "metadata": {
    "id": "kF-p0BQ4O5VV"
   },
   "source": [
    "8. Muestra estadisticas descriptivas sobre el DataFrame\n",
    "\n"
   ]
  },
  {
   "cell_type": "code",
   "execution_count": 25,
   "metadata": {
    "id": "OXEv7NOTPATs"
   },
   "outputs": [
    {
     "name": "stdout",
     "output_type": "stream",
     "text": [
      "            country  beer_servings  spirit_servings  wine_servings  \\\n",
      "count           193     193.000000       193.000000     193.000000   \n",
      "unique          193            NaN              NaN            NaN   \n",
      "top     Afghanistan            NaN              NaN            NaN   \n",
      "freq              1            NaN              NaN            NaN   \n",
      "mean            NaN     106.160622        80.994819      49.450777   \n",
      "std             NaN     101.143103        88.284312      79.697598   \n",
      "min             NaN       0.000000         0.000000       0.000000   \n",
      "25%             NaN      20.000000         4.000000       1.000000   \n",
      "50%             NaN      76.000000        56.000000       8.000000   \n",
      "75%             NaN     188.000000       128.000000      59.000000   \n",
      "max             NaN     376.000000       438.000000     370.000000   \n",
      "\n",
      "        total_litres_of_pure_alcohol  \n",
      "count                     193.000000  \n",
      "unique                           NaN  \n",
      "top                              NaN  \n",
      "freq                             NaN  \n",
      "mean                        4.717098  \n",
      "std                         3.773298  \n",
      "min                         0.000000  \n",
      "25%                         1.300000  \n",
      "50%                         4.200000  \n",
      "75%                         7.200000  \n",
      "max                        14.400000  \n"
     ]
    }
   ],
   "source": [
    "print(df.describe(include='all'))"
   ]
  },
  {
   "cell_type": "markdown",
   "metadata": {
    "id": "nJtomXHwPBQg"
   },
   "source": [
    "9.     Muestra Estadisticas descriptivas de Mexico, Estados Unidos y Canada."
   ]
  },
  {
   "cell_type": "code",
   "execution_count": 42,
   "metadata": {
    "id": "nP4ftBUHPQeB"
   },
   "outputs": [
    {
     "name": "stdout",
     "output_type": "stream",
     "text": [
      "       beer_servings  spirit_servings  wine_servings  \\\n",
      "count       3.000000         3.000000        3.00000   \n",
      "mean      242.333333       116.000000       63.00000   \n",
      "std         5.859465        45.299007       50.86256   \n",
      "min       238.000000        68.000000        5.00000   \n",
      "25%       239.000000        95.000000       44.50000   \n",
      "50%       240.000000       122.000000       84.00000   \n",
      "75%       244.500000       140.000000       92.00000   \n",
      "max       249.000000       158.000000      100.00000   \n",
      "\n",
      "       total_litres_of_pure_alcohol  \n",
      "count                      3.000000  \n",
      "mean                       7.466667  \n",
      "std                        1.721434  \n",
      "min                        5.500000  \n",
      "25%                        6.850000  \n",
      "50%                        8.200000  \n",
      "75%                        8.450000  \n",
      "max                        8.700000  \n"
     ]
    }
   ],
   "source": [
    "print(df[df[\"country\"].isin([\"Mexico\", \"Canada\", \"USA\"])].describe())"
   ]
  },
  {
   "cell_type": "markdown",
   "metadata": {
    "id": "ZMkv5oFaPReg"
   },
   "source": [
    "10. Generá 3 Graficas que creas mas convenientes para comprender los datos almacenados en el DataFrame, y genera una conclusion sobre dichos datos.\n",
    "\n"
   ]
  },
  {
   "cell_type": "code",
   "execution_count": null,
   "metadata": {
    "id": "aRkr4fnfQHLn"
   },
   "outputs": [],
   "source": []
  }
 ],
 "metadata": {
  "colab": {
   "provenance": [
    {
     "file_id": "1l5nnwRBtLuRUGqC0s5i98U-HQAVPUVmx",
     "timestamp": 1679703922690
    }
   ]
  },
  "kernelspec": {
   "display_name": "Python 3",
   "language": "python",
   "name": "python3"
  },
  "language_info": {
   "codemirror_mode": {
    "name": "ipython",
    "version": 3
   },
   "file_extension": ".py",
   "mimetype": "text/x-python",
   "name": "python",
   "nbconvert_exporter": "python",
   "pygments_lexer": "ipython3",
   "version": "3.13.5"
  }
 },
 "nbformat": 4,
 "nbformat_minor": 0
}
